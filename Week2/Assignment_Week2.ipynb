{
 "cells": [
  {
   "cell_type": "markdown",
   "id": "16c73c2b",
   "metadata": {},
   "source": [
    "Task - 1"
   ]
  },
  {
   "cell_type": "code",
   "execution_count": 5,
   "id": "b8f42bf2",
   "metadata": {},
   "outputs": [
    {
     "name": "stdout",
     "output_type": "stream",
     "text": [
      "Chris Alan\n"
     ]
    }
   ],
   "source": [
    "def solve(s):\n",
    "    result = ''\n",
    "    capitalize_next = True\n",
    "    for char in s:\n",
    "        if char == ' ':\n",
    "            result += char\n",
    "            capitalize_next = True\n",
    "        elif capitalize_next:\n",
    "            result += char.upper()\n",
    "            capitalize_next = False\n",
    "        else:\n",
    "            result += char\n",
    "    return result\n",
    "\n",
    "if __name__ == '__main__':\n",
    "    s = input()\n",
    "    result = solve(s)\n",
    "    print(result)\n"
   ]
  },
  {
   "cell_type": "markdown",
   "id": "7806d97e",
   "metadata": {},
   "source": [
    "Task - 2"
   ]
  },
  {
   "cell_type": "code",
   "execution_count": 3,
   "id": "6cb9b802",
   "metadata": {},
   "outputs": [
    {
     "name": "stdout",
     "output_type": "stream",
     "text": [
      "169.375\n"
     ]
    }
   ],
   "source": [
    "def average(array):\n",
    "    # your code goes here\n",
    "    distinct_heights = set(arr)\n",
    "    return round(sum(distinct_heights) / len(distinct_heights),3)\n",
    "\n",
    "# Input and execution\n",
    "if __name__ == '__main__':\n",
    "    n = int(input())\n",
    "    arr = list(map(int, input().split()))\n",
    "    result = average(arr)\n",
    "    print(result)"
   ]
  },
  {
   "cell_type": "markdown",
   "id": "11af2ac9",
   "metadata": {},
   "source": [
    "Task - 3"
   ]
  },
  {
   "cell_type": "code",
   "execution_count": 6,
   "id": "0f34d5cd",
   "metadata": {},
   "outputs": [
    {
     "name": "stdout",
     "output_type": "stream",
     "text": [
      "ABCD\n",
      "EFGH\n",
      "IJKL\n",
      "IMNO\n",
      "QRST\n",
      "UVWX\n",
      "YZ\n"
     ]
    }
   ],
   "source": [
    "import textwrap\n",
    "\n",
    "def wrap(string, max_width):\n",
    "    return '\\n'.join(textwrap.wrap(string, max_width))\n",
    "\n",
    "if __name__ == '__main__':\n",
    "    string, max_width = input(), int(input())\n",
    "    result = wrap(string, max_width)\n",
    "    print(result)"
   ]
  },
  {
   "cell_type": "markdown",
   "id": "2b569bbc",
   "metadata": {},
   "source": [
    "Task - 4"
   ]
  },
  {
   "cell_type": "code",
   "execution_count": 7,
   "id": "e0c91b56",
   "metadata": {},
   "outputs": [
    {
     "name": "stdout",
     "output_type": "stream",
     "text": [
      "--------e--------\n",
      "------e-d-e------\n",
      "----e-d-c-d-e----\n",
      "--e-d-c-b-c-d-e--\n",
      "e-d-c-b-a-b-c-d-e\n",
      "--e-d-c-b-c-d-e--\n",
      "----e-d-c-d-e----\n",
      "------e-d-e------\n",
      "--------e--------\n"
     ]
    }
   ],
   "source": [
    "import string  # Make sure this line is at the top of your file\n",
    "\n",
    "def print_rangoli(size):\n",
    "    alpha = string.ascii_lowercase\n",
    "    lines = []\n",
    "\n",
    "    for i in range(size):\n",
    "        # Get letters from current row: from size-1 to size-i-1 (inclusive), reversed\n",
    "        left_part = [alpha[size - j - 1] for j in range(i + 1)]\n",
    "        # Mirror it excluding the first (middle) letter to avoid duplication\n",
    "        full_row = left_part + left_part[-2::-1]\n",
    "        row = '-'.join(full_row)\n",
    "        lines.append(row.center(4 * size - 3, '-'))\n",
    "\n",
    "    # Print the full rangoli: top to middle to bottom\n",
    "    print('\\n'.join(lines + lines[-2::-1]))\n",
    "\n",
    "if __name__ == '__main__':\n",
    "    n = int(input())\n",
    "    print_rangoli(n)"
   ]
  },
  {
   "cell_type": "markdown",
   "id": "4a588d62",
   "metadata": {},
   "source": [
    "Task - 5"
   ]
  },
  {
   "cell_type": "code",
   "execution_count": 1,
   "id": "245de6b0",
   "metadata": {},
   "outputs": [
    {
     "name": "stdout",
     "output_type": "stream",
     "text": [
      "AB\n",
      "CA\n",
      "AD\n"
     ]
    }
   ],
   "source": [
    "def merge_the_tools(string, k):\n",
    "    # your code goes here\n",
    "    # Step through the string in chunks of size k\n",
    "    for i in range(0, len(string), k):\n",
    "        substring = string[i:i+k]\n",
    "        seen = set()\n",
    "        result = ''\n",
    "        for char in substring:\n",
    "            if char not in seen:\n",
    "                seen.add(char)\n",
    "                result += char\n",
    "        print(result)\n",
    "\n",
    "if __name__ == '__main__':\n",
    "    string, k = input(), int(input())\n",
    "    merge_the_tools(string, k)"
   ]
  },
  {
   "cell_type": "markdown",
   "id": "d9ab3633",
   "metadata": {},
   "source": [
    "Task - 6"
   ]
  },
  {
   "cell_type": "code",
   "execution_count": 2,
   "id": "afbb5cef",
   "metadata": {},
   "outputs": [
    {
     "name": "stdout",
     "output_type": "stream",
     "text": [
      "200\n"
     ]
    }
   ],
   "source": [
    "from collections import Counter\n",
    "\n",
    "# Input\n",
    "X = int(input())\n",
    "shoe_sizes = list(map(int, input().split()))\n",
    "shoe_inventory = Counter(shoe_sizes)\n",
    "\n",
    "N = int(input())\n",
    "total_earnings = 0\n",
    "\n",
    "for _ in range(N):\n",
    "    size, price = map(int, input().split())\n",
    "    if shoe_inventory[size] > 0:\n",
    "        total_earnings += price\n",
    "        shoe_inventory[size] -= 1\n",
    "\n",
    "print(total_earnings)\n"
   ]
  },
  {
   "cell_type": "markdown",
   "id": "7bae9b3d",
   "metadata": {},
   "source": [
    "Task - 7"
   ]
  },
  {
   "cell_type": "code",
   "execution_count": 8,
   "id": "1d77da3c",
   "metadata": {},
   "outputs": [
    {
     "name": "stdout",
     "output_type": "stream",
     "text": [
      "Error Code: integer division or modulo by zero\n",
      "Error Code: invalid literal for int() with base 10: '$'\n",
      "3\n"
     ]
    }
   ],
   "source": [
    "# Read number of test cases\n",
    "t = int(input())\n",
    "\n",
    "for _ in range(t):\n",
    "    try:\n",
    "        a, b = input().split()\n",
    "        print(int(a) // int(b))\n",
    "    except (ZeroDivisionError, ValueError) as e:\n",
    "        print(\"Error Code:\", e)\n"
   ]
  },
  {
   "cell_type": "markdown",
   "id": "285a8831",
   "metadata": {},
   "source": [
    "Task - 8"
   ]
  },
  {
   "cell_type": "code",
   "execution_count": 12,
   "id": "e1cb70e2",
   "metadata": {},
   "outputs": [
    {
     "name": "stdout",
     "output_type": "stream",
     "text": [
      "True\n",
      "True\n"
     ]
    }
   ],
   "source": [
    "import re\n",
    "\n",
    "# Read number of test cases\n",
    "t = int(input())\n",
    "\n",
    "for _ in range(t):\n",
    "    pattern = input()\n",
    "    try:\n",
    "        re.compile(pattern)\n",
    "        print(\"True\")\n",
    "    except re.error:\n",
    "        print(\"False\")\n"
   ]
  },
  {
   "cell_type": "markdown",
   "id": "ef30814a",
   "metadata": {},
   "source": [
    "Task - 9"
   ]
  },
  {
   "cell_type": "code",
   "execution_count": 13,
   "id": "e090d89c",
   "metadata": {},
   "outputs": [
    {
     "name": "stdout",
     "output_type": "stream",
     "text": [
      "4\n"
     ]
    }
   ],
   "source": [
    "# Read initial set size\n",
    "n = int(input())\n",
    "\n",
    "# Read elements of the set and convert to integers\n",
    "s = set(map(int, input().split()))\n",
    "\n",
    "# Read number of operations\n",
    "num_operations = int(input())\n",
    "\n",
    "# Process each operation\n",
    "for _ in range(num_operations):\n",
    "    command = input().split()\n",
    "    operation = command[0]\n",
    "\n",
    "    if operation == \"pop\":\n",
    "        try:\n",
    "            s.pop()\n",
    "        except KeyError:\n",
    "            pass  # In case the set is empty\n",
    "    elif operation == \"remove\":\n",
    "        try:\n",
    "            s.remove(int(command[1]))\n",
    "        except KeyError:\n",
    "            pass  # If element doesn't exist, ignore\n",
    "    elif operation == \"discard\":\n",
    "        s.discard(int(command[1]))\n",
    "\n",
    "# Output the sum of remaining elements\n",
    "print(sum(s))\n"
   ]
  }
 ],
 "metadata": {
  "kernelspec": {
   "display_name": "Python 3",
   "language": "python",
   "name": "python3"
  },
  "language_info": {
   "codemirror_mode": {
    "name": "ipython",
    "version": 3
   },
   "file_extension": ".py",
   "mimetype": "text/x-python",
   "name": "python",
   "nbconvert_exporter": "python",
   "pygments_lexer": "ipython3",
   "version": "3.11.9"
  }
 },
 "nbformat": 4,
 "nbformat_minor": 5
}
