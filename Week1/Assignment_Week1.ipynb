{
 "cells": [
  {
   "cell_type": "markdown",
   "id": "1849a93b",
   "metadata": {},
   "source": [
    "TASK - 2"
   ]
  },
  {
   "cell_type": "code",
   "execution_count": 5,
   "id": "0e4a28a0",
   "metadata": {},
   "outputs": [
    {
     "name": "stdout",
     "output_type": "stream",
     "text": [
      "5\n",
      "1\n",
      "6\n"
     ]
    }
   ],
   "source": [
    "a=int(input())\n",
    "b=int(input())\n",
    "print(a+b)\n",
    "print(a-b)\n",
    "print(a*b)"
   ]
  },
  {
   "cell_type": "markdown",
   "id": "3d882f89",
   "metadata": {},
   "source": [
    "TASK - 3"
   ]
  },
  {
   "cell_type": "code",
   "execution_count": 4,
   "id": "c67594ce",
   "metadata": {},
   "outputs": [
    {
     "name": "stdout",
     "output_type": "stream",
     "text": [
      "(1, 1) (3, 2) (1, 3) (2, 1)\n"
     ]
    }
   ],
   "source": [
    "from itertools import groupby\n",
    "s=input()\n",
    "\n",
    "result=[]\n",
    "for key , group in groupby(s):\n",
    "    count=len(list(group))\n",
    "    result.append(f\"({count}, {key})\")\n",
    "\n",
    "print(' '.join(result))"
   ]
  },
  {
   "cell_type": "markdown",
   "id": "6ca5b825",
   "metadata": {},
   "source": [
    "TASK - 4"
   ]
  },
  {
   "cell_type": "code",
   "execution_count": 6,
   "id": "cb13713b",
   "metadata": {},
   "outputs": [
    {
     "name": "stdout",
     "output_type": "stream",
     "text": [
      "Stuart 12\n"
     ]
    }
   ],
   "source": [
    "def minion_game(string):\n",
    "    vowels = 'AEIOU'\n",
    "    kevin_score = 0\n",
    "    stuart_score = 0\n",
    "    n = len(string)\n",
    "\n",
    "    for i in range(n):\n",
    "        if string[i] in vowels:\n",
    "            kevin_score += n - i\n",
    "        else:\n",
    "            stuart_score += n - i\n",
    "\n",
    "    if kevin_score > stuart_score:\n",
    "        print(f\"Kevin {kevin_score}\")\n",
    "    elif stuart_score > kevin_score:\n",
    "        print(f\"Stuart {stuart_score}\")\n",
    "    else:\n",
    "        print(\"Draw\")\n",
    "if __name__ == '__main__':\n",
    "    s = input()\n",
    "    minion_game(s)"
   ]
  },
  {
   "cell_type": "markdown",
   "id": "66fe65ec",
   "metadata": {},
   "source": [
    "TASK - 5"
   ]
  },
  {
   "cell_type": "code",
   "execution_count": 8,
   "id": "b2ffa32b",
   "metadata": {},
   "outputs": [
    {
     "name": "stdout",
     "output_type": "stream",
     "text": [
      "False\n"
     ]
    }
   ],
   "source": [
    "def is_leap(year):\n",
    "    if year % 400 == 0:\n",
    "        return True\n",
    "    elif year % 100 == 0:\n",
    "        return False\n",
    "    elif year % 4 == 0:\n",
    "        return True\n",
    "    else:\n",
    "        return False\n",
    "\n",
    "year = int(input())\n",
    "print(is_leap(year))"
   ]
  },
  {
   "cell_type": "markdown",
   "id": "b6eb208f",
   "metadata": {},
   "source": [
    "TASK - 7"
   ]
  },
  {
   "cell_type": "code",
   "execution_count": 10,
   "id": "36948b9c",
   "metadata": {},
   "outputs": [
    {
     "name": "stdout",
     "output_type": "stream",
     "text": [
      "0.8333\n"
     ]
    }
   ],
   "source": [
    "from itertools import combinations\n",
    "\n",
    "\n",
    "n = int(input())\n",
    "letters = input().split()\n",
    "k = int(input())\n",
    "\n",
    "\n",
    "indices_of_a = [i for i in range(n) if letters[i] == 'a']\n",
    "\n",
    "\n",
    "all_combinations = list(combinations(range(n), k))\n",
    "\n",
    "favorable = [comb for comb in all_combinations if any(i in indices_of_a for i in comb)]\n",
    "\n",
    "\n",
    "probability = len(favorable) / len(all_combinations)\n",
    "\n",
    "\n",
    "print(f\"{probability:.4f}\")"
   ]
  },
  {
   "cell_type": "markdown",
   "id": "9982b8f4",
   "metadata": {},
   "source": [
    "TASK - 8"
   ]
  },
  {
   "cell_type": "code",
   "execution_count": 11,
   "id": "5f01728f",
   "metadata": {},
   "outputs": [
    {
     "name": "stdout",
     "output_type": "stream",
     "text": [
      "3550055125485641917\n"
     ]
    }
   ],
   "source": [
    "if __name__ == '__main__':\n",
    "    n = int(input())\n",
    "    integer_list = map(int, input().split())\n",
    "    t = tuple(integer_list)\n",
    "    print(abs(hash(t)))\n"
   ]
  },
  {
   "cell_type": "markdown",
   "id": "38f3ec09",
   "metadata": {},
   "source": [
    "TASK - 9"
   ]
  },
  {
   "cell_type": "code",
   "execution_count": 12,
   "id": "18a463fb",
   "metadata": {},
   "outputs": [
    {
     "name": "stdout",
     "output_type": "stream",
     "text": [
      "26.50\n"
     ]
    }
   ],
   "source": [
    "n= int(input())\n",
    "marks = {}\n",
    "\n",
    "for _ in range(n):\n",
    "    data = input().split()\n",
    "    name = data[0]\n",
    "    scores = list(map(float, data[1:]))\n",
    "    marks[name] = scores\n",
    "\n",
    "query = input()\n",
    "avg = sum(marks[query]) / len(marks[query])\n",
    "print(\"%.2f\" % avg)"
   ]
  },
  {
   "cell_type": "markdown",
   "id": "79bfb6aa",
   "metadata": {},
   "source": [
    "TASK - 10"
   ]
  },
  {
   "cell_type": "code",
   "execution_count": 13,
   "id": "ac63321e",
   "metadata": {},
   "outputs": [
    {
     "name": "stdout",
     "output_type": "stream",
     "text": [
      "    1     1     1     1\n",
      "    2     2     2    10\n",
      "    3     3     3    11\n",
      "    4     4     4   100\n",
      "    5     5     5   101\n",
      "    6     6     6   110\n",
      "    7     7     7   111\n",
      "    8    10     8  1000\n",
      "    9    11     9  1001\n",
      "   10    12     A  1010\n",
      "   11    13     B  1011\n",
      "   12    14     C  1100\n",
      "   13    15     D  1101\n",
      "   14    16     E  1110\n",
      "   15    17     F  1111\n",
      "   16    20    10 10000\n",
      "   17    21    11 10001\n"
     ]
    }
   ],
   "source": [
    "def print_formatted(number):\n",
    "    width = len(bin(number)[2:])  # Determine width based on binary of number\n",
    "    for i in range(1, number + 1):\n",
    "        dec = str(i).rjust(width)\n",
    "        octal = oct(i)[2:].rjust(width)\n",
    "        hexa = hex(i)[2:].upper().rjust(width)\n",
    "        binary = bin(i)[2:].rjust(width)\n",
    "        print(dec, octal, hexa, binary)\n",
    "\n",
    "\n",
    "if __name__ == '__main__':\n",
    "    n = int(input())\n",
    "    print_formatted(n)"
   ]
  }
 ],
 "metadata": {
  "kernelspec": {
   "display_name": "Python 3",
   "language": "python",
   "name": "python3"
  },
  "language_info": {
   "codemirror_mode": {
    "name": "ipython",
    "version": 3
   },
   "file_extension": ".py",
   "mimetype": "text/x-python",
   "name": "python",
   "nbconvert_exporter": "python",
   "pygments_lexer": "ipython3",
   "version": "3.11.9"
  }
 },
 "nbformat": 4,
 "nbformat_minor": 5
}
